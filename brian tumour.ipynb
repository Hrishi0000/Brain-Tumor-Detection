{
 "cells": [
  {
   "cell_type": "markdown",
   "metadata": {
    "id": "KP2aLdaOfErw"
   },
   "source": [
    "# Section 1 : Dataset Preparation and helper functions"
   ]
  },
  {
   "cell_type": "code",
   "execution_count": 1,
   "metadata": {
    "executionInfo": {
     "elapsed": 3542,
     "status": "ok",
     "timestamp": 1623945987029,
     "user": {
      "displayName": "Sourav Mazumdar",
      "photoUrl": "",
      "userId": "17301155181699207336"
     },
     "user_tz": -330
    },
    "id": "VKFy12rOz09m"
   },
   "outputs": [],
   "source": [
    "from numpy.random import seed\n",
    "seed(17)\n",
    "from tensorflow import random\n",
    "random.set_seed(17)\n",
    "\n",
    "import pywt\n",
    "import os\n",
    "import math\n",
    "import cv2\n",
    "import numpy as np\n",
    "import matplotlib.pyplot as plt\n",
    "import imutils\n",
    "\n",
    "import tensorflow as tf\n",
    "from tensorflow.keras.applications.vgg19 import  VGG19\n",
    "from tensorflow.keras.applications.vgg16 import  VGG16, preprocess_input\n",
    "\n",
    "\n",
    "from tensorflow.keras.models import Model,Sequential\n",
    "from tensorflow.keras.layers import Input, Conv2D, MaxPooling2D, Dense, Flatten, BatchNormalization, Activation, Dropout, Lambda, GlobalAveragePooling2D,ZeroPadding2D\n",
    "from keras.layers import Layer\n",
    "\n",
    "from tensorflow.keras.optimizers import Adam, SGD,Nadam\n",
    "import tensorflow.keras.backend as K\n",
    "\n",
    "\n",
    "from tensorflow.keras.preprocessing.image import ImageDataGenerator\n",
    "\n",
    "from tensorflow.keras.callbacks import ReduceLROnPlateau,ModelCheckpoint\n",
    "\n",
    "\n",
    "from skimage import exposure\n",
    "\n",
    "from sklearn.metrics import  classification_report\n",
    "from sklearn.metrics import confusion_matrix\n",
    "\n",
    "# from keras.utils import plot_model\n"
   ]
  },
  {
   "cell_type": "code",
   "execution_count": null,
   "metadata": {
    "colab": {
     "base_uri": "https://localhost:8080/"
    },
    "executionInfo": {
     "elapsed": 21,
     "status": "ok",
     "timestamp": 1623869439205,
     "user": {
      "displayName": "Sourav Mazumdar",
      "photoUrl": "",
      "userId": "17301155181699207336"
     },
     "user_tz": -330
    },
    "id": "HYuqgAZtTDoT",
    "outputId": "ea95fa8e-b89a-49f8-dedd-34c26ea401de"
   },
   "outputs": [
    {
     "name": "stdout",
     "output_type": "stream",
     "text": [
      "Drive already mounted at /content/drive; to attempt to forcibly remount, call drive.mount(\"/content/drive\", force_remount=True).\n"
     ]
    }
   ],
   "source": [
    "from google.colab import drive\n",
    "drive.mount('/content/drive')"
   ]
  },
  {
   "cell_type": "code",
   "execution_count": 2,
   "metadata": {
    "executionInfo": {
     "elapsed": 180231,
     "status": "ok",
     "timestamp": 1623946171846,
     "user": {
      "displayName": "Sourav Mazumdar",
      "photoUrl": "",
      "userId": "17301155181699207336"
     },
     "user_tz": -330
    },
    "id": "07tNw7pZ0Db0"
   },
   "outputs": [],
   "source": [
    "!cp -r /content/drive/MyDrive/major\\ project/brain_tumor_dataset ."
   ]
  },
  {
   "cell_type": "code",
   "execution_count": 3,
   "metadata": {
    "executionInfo": {
     "elapsed": 12,
     "status": "ok",
     "timestamp": 1623946171848,
     "user": {
      "displayName": "Sourav Mazumdar",
      "photoUrl": "",
      "userId": "17301155181699207336"
     },
     "user_tz": -330
    },
    "id": "OUSG-il0Hxwh"
   },
   "outputs": [],
   "source": [
    "K.set_image_data_format('channels_first')\n",
    "DATA_DIR = '/content/brain_tumor_dataset'\n",
    "IMAGE_SIZE = (224,224)"
   ]
  },
  {
   "cell_type": "code",
   "execution_count": 4,
   "metadata": {
    "colab": {
     "base_uri": "https://localhost:8080/"
    },
    "executionInfo": {
     "elapsed": 516,
     "status": "ok",
     "timestamp": 1623946195302,
     "user": {
      "displayName": "Sourav Mazumdar",
      "photoUrl": "",
      "userId": "17301155181699207336"
     },
     "user_tz": -330
    },
    "id": "Tq_ac0yB0F_i",
    "outputId": "47dc58b7-bf71-4df8-9517-8eb92d301c92"
   },
   "outputs": [
    {
     "name": "stdout",
     "output_type": "stream",
     "text": [
      "Found 203 images belonging to 2 classes.\n",
      "Found 50 images belonging to 2 classes.\n"
     ]
    }
   ],
   "source": [
    "#################\n",
    "#DATA AUGMENTATION \n",
    "#################\n",
    "\n",
    "train_datagen = ImageDataGenerator(\n",
    "    rescale=1./255,\n",
    "    shear_range=0.2,\n",
    "    rotation_range=45,\n",
    "    zoom_range=0.2,\n",
    "    horizontal_flip=True,\n",
    "    fill_mode='constant',cval =  0,\n",
    "    preprocessing_function = preprocess_input,\n",
    "    validation_split=0.2) # set validation split\n",
    "\n",
    "\n",
    "test_datagen = ImageDataGenerator(rescale=1./255,\n",
    "    preprocessing_function = preprocess_input,\n",
    "    validation_split=0.2)\n",
    "\n",
    "train_generator = train_datagen.flow_from_directory(\n",
    "    DATA_DIR,\n",
    "    target_size=IMAGE_SIZE,\n",
    "    batch_size=32,\n",
    "    class_mode='categorical',\n",
    "    shuffle=False,\n",
    "    subset='training') # set as training data\n",
    "\n",
    "validation_generator = test_datagen.flow_from_directory(\n",
    "    DATA_DIR,\n",
    "    target_size=IMAGE_SIZE,\n",
    "    class_mode='categorical',\n",
    "    batch_size=16,\n",
    "    shuffle=False,\n",
    "    subset='validation') # set as validation data"
   ]
  },
  {
   "cell_type": "code",
   "execution_count": 5,
   "metadata": {
    "executionInfo": {
     "elapsed": 537,
     "status": "ok",
     "timestamp": 1623946199331,
     "user": {
      "displayName": "Sourav Mazumdar",
      "photoUrl": "",
      "userId": "17301155181699207336"
     },
     "user_tz": -330
    },
    "id": "tTMeorxLic1B"
   },
   "outputs": [],
   "source": [
    "#Create Helper Functions\n",
    "\n",
    "\n",
    "\n",
    "def plot_curves(hist):\n",
    "    acc = hist.history['acc']\n",
    "    val_acc = hist.history['val_acc']\n",
    "    loss = hist.history['loss']\n",
    "    val_loss = hist.history['val_loss']\n",
    "\n",
    "    epochs = range(len(acc))\n",
    "\n",
    "    plt.plot(epochs, acc,  label='Training accuracy')\n",
    "    plt.plot(epochs, val_acc, label='Validation accuracy')\n",
    "    plt.title('Training and validation accuracy')\n",
    "\n",
    "    plt.figure()\n",
    "\n",
    "    plt.plot(epochs, loss,  label='Training Loss')\n",
    "    plt.plot(epochs, val_loss,  label='Validation Loss')\n",
    "    plt.title('Training and validation loss')\n",
    "    plt.legend()\n",
    "\n",
    "    plt.show()\n",
    "\n",
    "\n",
    "#Helper functions to evaluate and show results\n",
    "def show_metrics(model):\n",
    "    print(\"[INFO] evalutating network on holdout set...\")\n",
    "    predictions = model.predict(validation_generator)\n",
    "    print(classification_report(validation_generator.classes, predictions.argmax(axis=1) ) )\n",
    "    print(confusion_matrix(validation_generator.classes, predictions.argmax(axis=1)))\n",
    "    tn, fp, fn, tp = confusion_matrix(validation_generator.classes, predictions.argmax(axis=1)).ravel()\n",
    "\n",
    "    print(\"\\n Precision:\", (tp/(tp+fp)))\n",
    "    print(\"\\n Recall:\" ,(tp/(tp+fn)))\n",
    "    accuracy = (tp+tn)/(tp+tn+fp+fn)\n",
    "    print(\"\\nError Rate:\" ,1- accuracy)\n",
    "\n",
    "\n",
    "\n",
    "#Helper function to plot model summary\n",
    "    def plot_model_chart(model):\n",
    "        plot_model(\n",
    "            model, \n",
    "            to_file='model.png',\n",
    "            show_shapes='true',\n",
    "            dpi=96\n",
    "        )\n"
   ]
  },
  {
   "cell_type": "code",
   "execution_count": 5,
   "metadata": {
    "executionInfo": {
     "elapsed": 5,
     "status": "ok",
     "timestamp": 1623946199859,
     "user": {
      "displayName": "Sourav Mazumdar",
      "photoUrl": "",
      "userId": "17301155181699207336"
     },
     "user_tz": -330
    },
    "id": "B9r7n_ANlqvp"
   },
   "outputs": [],
   "source": []
  },
  {
   "cell_type": "markdown",
   "metadata": {
    "id": "SXB1Rvs30rJ7"
   },
   "source": [
    "#VGC\n",
    "\n",
    "### Training the VGG16 model with traditional maxpooling approach"
   ]
  },
  {
   "cell_type": "code",
   "execution_count": 6,
   "metadata": {
    "executionInfo": {
     "elapsed": 10,
     "status": "ok",
     "timestamp": 1623946200574,
     "user": {
      "displayName": "Sourav Mazumdar",
      "photoUrl": "",
      "userId": "17301155181699207336"
     },
     "user_tz": -330
    },
    "id": "ySgNHy2y0r9T"
   },
   "outputs": [],
   "source": [
    "def Create_model():\n",
    "    base_vgg_model = VGG16(\n",
    "        include_top=False,\n",
    "        weights='imagenet',\n",
    "        input_shape=(3,224,224)\n",
    "    )\n",
    "\n",
    "    for layers in base_vgg_model.layers[:14]:\n",
    "        layers.trainable = False\n",
    "\n",
    "    x = base_vgg_model.output\n",
    "    x=GlobalAveragePooling2D()(x)\n",
    "\n",
    "    x = Dense(256, activation='relu')(x)\n",
    "    x= Dropout(0.2)(x)\n",
    "    predictions = Dense(2, activation='softmax')(x)\n",
    "\n",
    "    # this is the model we will train\n",
    "    vgg_model = Model(inputs=base_vgg_model.input, outputs=predictions)\n",
    "\n",
    "\n",
    "    return vgg_model"
   ]
  },
  {
   "cell_type": "code",
   "execution_count": 7,
   "metadata": {
    "colab": {
     "base_uri": "https://localhost:8080/"
    },
    "executionInfo": {
     "elapsed": 7558,
     "status": "ok",
     "timestamp": 1623946211298,
     "user": {
      "displayName": "Sourav Mazumdar",
      "photoUrl": "",
      "userId": "17301155181699207336"
     },
     "user_tz": -330
    },
    "id": "hc8X_RPK3x03",
    "outputId": "e41493c2-90ca-4149-e7b0-bd3c3e4a4b1c"
   },
   "outputs": [
    {
     "name": "stdout",
     "output_type": "stream",
     "text": [
      "Downloading data from https://storage.googleapis.com/tensorflow/keras-applications/vgg16/vgg16_weights_tf_dim_ordering_tf_kernels_notop.h5\n",
      "58892288/58889256 [==============================] - 2s 0us/step\n"
     ]
    },
    {
     "name": "stderr",
     "output_type": "stream",
     "text": [
      "/usr/local/lib/python3.7/dist-packages/tensorflow/python/keras/optimizer_v2/optimizer_v2.py:375: UserWarning: The `lr` argument is deprecated, use `learning_rate` instead.\n",
      "  \"The `lr` argument is deprecated, use `learning_rate` instead.\")\n"
     ]
    }
   ],
   "source": [
    "vgg_model = Create_model()\n",
    "\n",
    "#Control learning rate\n",
    "reduce_lr = ReduceLROnPlateau(monitor='val_acc', factor=0.1,\n",
    "                              patience=5, min_lr=0.0001)\n",
    "\n",
    "checkpoint = ModelCheckpoint('model-{epoch:03d}-{acc:03f}-{val_acc:03f}.h5', verbose=1, monitor='val_acc',save_best_only=True, mode='auto')  #Save the best model\n",
    "\n",
    "opt = Adam(lr=0.01)\n",
    "vgg_model.compile(optimizer=opt, loss='categorical_crossentropy',metrics=['acc'])\n"
   ]
  },
  {
   "cell_type": "code",
   "execution_count": null,
   "metadata": {
    "id": "fyOq_NvEU258"
   },
   "outputs": [],
   "source": [
    "#Training loop\n",
    "hist = vgg_model.fit(\n",
    "    train_generator,\n",
    "    validation_data = validation_generator, \n",
    "    epochs = 1000,\n",
    "    verbose = 1,\n",
    "    callbacks=[reduce_lr,checkpoint])"
   ]
  },
  {
   "cell_type": "code",
   "execution_count": 8,
   "metadata": {
    "colab": {
     "base_uri": "https://localhost:8080/"
    },
    "executionInfo": {
     "elapsed": 35552,
     "status": "ok",
     "timestamp": 1623946252721,
     "user": {
      "displayName": "Sourav Mazumdar",
      "photoUrl": "",
      "userId": "17301155181699207336"
     },
     "user_tz": -330
    },
    "id": "_z2uoQEXxkds",
    "outputId": "7bd36b38-33f8-499c-94e1-61d0467ec25e"
   },
   "outputs": [
    {
     "name": "stdout",
     "output_type": "stream",
     "text": [
      "[INFO] evalutating network on holdout set...\n",
      "              precision    recall  f1-score   support\n",
      "\n",
      "           0       0.89      0.89      0.89        19\n",
      "           1       0.94      0.94      0.94        31\n",
      "\n",
      "    accuracy                           0.92        50\n",
      "   macro avg       0.92      0.92      0.92        50\n",
      "weighted avg       0.92      0.92      0.92        50\n",
      "\n",
      "[[17  2]\n",
      " [ 2 29]]\n",
      "\n",
      " Precision: 0.9354838709677419\n",
      "\n",
      " Recall: 0.9354838709677419\n",
      "\n",
      "Error Rate: 0.07999999999999996\n"
     ]
    }
   ],
   "source": [
    "vgg_model.load_weights('/content/drive/MyDrive/major project/saved models/model ID 1-0.920000.h5')\n",
    "show_metrics(vgg_model)"
   ]
  },
  {
   "cell_type": "code",
   "execution_count": null,
   "metadata": {
    "colab": {
     "base_uri": "https://localhost:8080/"
    },
    "executionInfo": {
     "elapsed": 1480,
     "status": "ok",
     "timestamp": 1618939838333,
     "user": {
      "displayName": "Sourav Mazumdar",
      "photoUrl": "",
      "userId": "17301155181699207336"
     },
     "user_tz": -330
    },
    "id": "f-JK3_GSHrOZ",
    "outputId": "f964c2d9-cd53-44bb-9569-069590b132ea"
   },
   "outputs": [
    {
     "data": {
      "text/plain": [
       "{'decay': 0.0,\n",
       " 'learning_rate': 1e-04,\n",
       " 'momentum': 0.9,\n",
       " 'name': 'SGD',\n",
       " 'nesterov': False}"
      ]
     },
     "execution_count": 36,
     "metadata": {
      "tags": []
     },
     "output_type": "execute_result"
    }
   ],
   "source": [
    "vgg_model.optimizer.get_config()"
   ]
  },
  {
   "cell_type": "code",
   "execution_count": null,
   "metadata": {
    "colab": {
     "base_uri": "https://localhost:8080/",
     "height": 892
    },
    "executionInfo": {
     "elapsed": 2025,
     "status": "ok",
     "timestamp": 1618939999351,
     "user": {
      "displayName": "Sourav Mazumdar",
      "photoUrl": "",
      "userId": "17301155181699207336"
     },
     "user_tz": -330
    },
    "id": "_S29Pu4IGpge",
    "outputId": "d764ee21-80d5-4cf9-f453-2974de5dadda"
   },
   "outputs": [
    {
     "data": {
      "image/png": "[encoded data removed]",
      "text/plain": [
       "<Figure size 432x288 with 1 Axes>"
      ]
     },
     "metadata": {
      "needs_background": "light",
      "tags": []
     },
     "output_type": "display_data"
    },
    {
     "data": {
      "image/png": "[encoded data removed]",
      "text/plain": [
       "<Figure size 432x288 with 1 Axes>"
      ]
     },
     "metadata": {
      "needs_background": "light",
      "tags": []
     },
     "output_type": "display_data"
    },
    {
     "name": "stdout",
     "output_type": "stream",
     "text": [
      "\n",
      "\n",
      "[INFO] evalutating network on holdout set...\n",
      "              precision    recall  f1-score   support\n",
      "\n",
      "           0       0.89      0.89      0.89        19\n",
      "           1       0.94      0.94      0.94        31\n",
      "\n",
      "    accuracy                           0.92        50\n",
      "   macro avg       0.92      0.92      0.92        50\n",
      "weighted avg       0.92      0.92      0.92        50\n",
      "\n",
      "[[17  2]\n",
      " [ 2 29]]\n",
      "\n",
      " Precision: 0.9354838709677419\n",
      "\n",
      " Recall: 0.9354838709677419\n",
      "\n",
      "Error Rate: 0.07999999999999996\n"
     ]
    }
   ],
   "source": [
    "plot_curves(hist)\n",
    "print('\\n')\n",
    "show_metrics(vgg_model)"
   ]
  },
  {
   "cell_type": "code",
   "execution_count": null,
   "metadata": {
    "id": "se-cIMEcfhpl"
   },
   "outputs": [],
   "source": []
  },
  {
   "cell_type": "markdown",
   "metadata": {
    "id": "ftejGIw7MGV5"
   },
   "source": [
    "#Wavelet\n",
    "\n",
    "<p> Let us define the DWT Pooling layer as a layer Class\n",
    "\n"
   ]
  },
  {
   "cell_type": "code",
   "execution_count": 9,
   "metadata": {
    "executionInfo": {
     "elapsed": 782,
     "status": "ok",
     "timestamp": 1623946260827,
     "user": {
      "displayName": "Sourav Mazumdar",
      "photoUrl": "",
      "userId": "17301155181699207336"
     },
     "user_tz": -330
    },
    "id": "YoLgrCl0MIx5"
   },
   "outputs": [],
   "source": [
    "#define the wavelet\n",
    "#see pywt.wavelist(kind='discrete') for available wavelets \n",
    "\n",
    "wavelet = pywt.Wavelet('db1')\n",
    "class DWT_Pooling(tf.keras.layers.Layer):\n",
    "    def __init__(self,**kwargs):\n",
    "        super(DWT_Pooling, self).__init__(**kwargs)\n",
    "        \n",
    "    def build(self, input_shape):\n",
    "        super(DWT_Pooling, self).build(input_shape) \n",
    "    \n",
    "    @tf.function\n",
    "    def call(self, inputs):\n",
    "        band_low = wavelet.rec_lo\n",
    "        band_high = wavelet.rec_hi\n",
    "        assert len(band_low) == len(band_high)\n",
    "        band_length = len(band_low)\n",
    "        assert band_length % 2 == 0\n",
    "        band_length_half = math.floor(band_length / 2)\n",
    "\n",
    "        input_height = inputs.shape[2]\n",
    "        input_width = inputs.shape[3]\n",
    "\n",
    "        L1 = input_height\n",
    "        L = math.floor(L1 / 2)\n",
    "        matrix_h = np.zeros( ( L,      L1 + band_length - 2 ), dtype=np.float32)\n",
    "        matrix_g = np.zeros( ( L1 - L, L1 + band_length - 2 ), dtype=np.float32)\n",
    "        end = None if band_length_half == 1 else (-band_length_half+1)\n",
    "        \n",
    "        index = 0\n",
    "        for i in range(L):\n",
    "            for j in range(band_length):\n",
    "                matrix_h[i, index+j] = band_low[j]\n",
    "            index += 2\n",
    "        matrix_h_0 = matrix_h[0:(math.floor(input_height / 2)), 0:(input_height + band_length - 2)]\n",
    "        matrix_h_1 = matrix_h[0:(math.floor(input_width / 2)), 0:(input_width + band_length - 2)]\n",
    "\n",
    "        index = 0\n",
    "        for i in range(L1 - L):\n",
    "            for j in range(band_length):\n",
    "                matrix_g[i, index+j] = band_high[j]\n",
    "            index += 2\n",
    "\n",
    "        matrix_g_0 = matrix_g[0:(input_height - math.floor(input_height / 2)),0:(input_height + band_length - 2)]\n",
    "        matrix_g_1 = matrix_g[0:(input_width - math.floor(input_width / 2)),0:(input_width + band_length - 2)]\n",
    "\n",
    "        matrix_h_0 = matrix_h_0[:,(band_length_half-1):end]\n",
    "        matrix_h_1 = matrix_h_1[:,(band_length_half-1):end]\n",
    "        matrix_h_1 = np.transpose(matrix_h_1)\n",
    "        matrix_g_0 = matrix_g_0[:,(band_length_half-1):end]\n",
    "        matrix_g_1 = matrix_g_1[:,(band_length_half-1):end]\n",
    "        matrix_g_1 = np.transpose(matrix_g_1)\n",
    "\n",
    "        matrix_low_0 = tf.convert_to_tensor(matrix_h_0,dtype=tf.float32)\n",
    "        matrix_low_1 = tf.convert_to_tensor(matrix_h_1,dtype=tf.float32)\n",
    "        matrix_high_0 = tf.convert_to_tensor(matrix_g_0,dtype=tf.float32)\n",
    "        matrix_high_1 = tf.convert_to_tensor(matrix_g_1,dtype=tf.float32)\n",
    "        \n",
    "        L = tf.matmul(matrix_low_0, inputs)\n",
    "        H = tf.matmul(matrix_high_0, inputs)\n",
    "\n",
    "\n",
    "        LL = tf.matmul(L, matrix_low_1) #Create a subsample \n",
    "        LH = tf.matmul(L, matrix_high_1) #Recognises Vertical edges\n",
    "        HL = tf.matmul(H, matrix_low_1) #Recognises Horizontal edges\n",
    "        HH = tf.matmul(H, matrix_high_1) #Recognises Diagnoal edges\n",
    "        return LL    \n",
    "    \n",
    "    def get_config(self):\n",
    "        config = super(DWT_Pooling, self).get_config()\n",
    "        return config\n",
    "\n",
    "    def compute_output_shape(self, input_shape):\n",
    "        return (input_shape[0], input_shape[1], input_shape[2]//2, input_shape[3]//2)"
   ]
  },
  {
   "cell_type": "markdown",
   "metadata": {
    "id": "TwVBIXUVMuWX"
   },
   "source": [
    "# VGG Wavelet Pooling Model"
   ]
  },
  {
   "cell_type": "code",
   "execution_count": 10,
   "metadata": {
    "executionInfo": {
     "elapsed": 13,
     "status": "ok",
     "timestamp": 1623946263166,
     "user": {
      "displayName": "Sourav Mazumdar",
      "photoUrl": "",
      "userId": "17301155181699207336"
     },
     "user_tz": -330
    },
    "id": "XY_dCHpf91Qa"
   },
   "outputs": [],
   "source": [
    "def Create_wavelet_model_V2():\n",
    "    base_vgg_model = VGG16(\n",
    "        include_top=False,\n",
    "        weights='imagenet',\n",
    "        input_shape=(3,224,224)\n",
    "    )\n",
    "\n",
    "    #Create new Sequential model\n",
    "    vgg_wavelet_model  = Sequential()\n",
    "\n",
    "    #Add layers from vgg_model upto block4_conv\n",
    "    for layer in base_vgg_model.layers[:14]:\n",
    "        vgg_wavelet_model.add(layer)\n",
    "\n",
    "    #Add DWT pooling layer\n",
    "    vgg_wavelet_model.add(DWT_Pooling())\n",
    "\n",
    "    #Add additonal conv layer\n",
    "    vgg_wavelet_model.add(Conv2D(512, (3, 3), activation='relu',padding='same'))\n",
    "\n",
    "    #Add DWT layer\n",
    "    vgg_wavelet_model.add(DWT_Pooling())\n",
    "\n",
    "    vgg_wavelet_model.add(Flatten())\n",
    "    vgg_wavelet_model.add(Dense(512, activation='relu'))\n",
    "    vgg_wavelet_model.add(Dense(512, activation='relu'))\n",
    "\n",
    "    # vgg_wavelet_model.add(Dense(512, activation='relu'))\n",
    "    vgg_wavelet_model.add(Dropout(0.2))\n",
    "    vgg_wavelet_model.add(Dense(2, activation='softmax', name='predictions'))\n",
    "\n",
    "    for layer in vgg_wavelet_model.layers[:14]:\n",
    "        layer.trainable = False\n",
    "        \n",
    "    # vgg_wavelet_model.summary()\n",
    "    return vgg_wavelet_model"
   ]
  },
  {
   "cell_type": "code",
   "execution_count": null,
   "metadata": {
    "id": "a3D2xW0iMABc"
   },
   "outputs": [],
   "source": []
  },
  {
   "cell_type": "code",
   "execution_count": null,
   "metadata": {
    "colab": {
     "base_uri": "https://localhost:8080/"
    },
    "executionInfo": {
     "elapsed": 1165,
     "status": "ok",
     "timestamp": 1623850794795,
     "user": {
      "displayName": "Sourav Mazumdar",
      "photoUrl": "",
      "userId": "17301155181699207336"
     },
     "user_tz": -330
    },
    "id": "3QoQFnlRcorr",
    "outputId": "18ee7ad1-5e6c-46c8-d20e-6a5014b89ff0"
   },
   "outputs": [
    {
     "name": "stdout",
     "output_type": "stream",
     "text": [
      "cp: cannot stat '/content/drive/MyDrive/major project/saved models/Copy of model ID 2-0.960000.h5': No such file or directory\n"
     ]
    }
   ],
   "source": [
    "# !cp /content/drive/MyDrive/major\\ project/model-100-0.950739-0.900000.h5 .\n",
    "# !cp /content/drive/MyDrive/major\\ project/saved\\ models/Copy\\ of\\ model\\ ID\\ 2-0.960000.h5 ."
   ]
  },
  {
   "cell_type": "code",
   "execution_count": 11,
   "metadata": {
    "executionInfo": {
     "elapsed": 1350,
     "status": "ok",
     "timestamp": 1623946267478,
     "user": {
      "displayName": "Sourav Mazumdar",
      "photoUrl": "",
      "userId": "17301155181699207336"
     },
     "user_tz": -330
    },
    "id": "tivkcbkhBcxy"
   },
   "outputs": [],
   "source": [
    "\n",
    "model = Create_wavelet_model_V2()\n",
    "\n",
    "reduce_lr = ReduceLROnPlateau(\n",
    "                                monitor='val_acc', \n",
    "                                factor=0.1,\n",
    "                                patience=5, \n",
    "                                min_lr=0.0001,\n",
    "                                verbose=1)\n",
    "\n",
    "\n",
    "checkpoint = ModelCheckpoint('model-{epoch:03d}-{acc:03f}-{val_acc:03f}.h5', verbose=1, monitor='val_acc',save_best_only=True, mode='auto')\n",
    "\n",
    "# opt = Adam(learning_rate=0.01)\n",
    "opt = SGD(learning_rate=0.001)\n",
    "\n",
    "model.compile(optimizer=opt, loss='categorical_crossentropy',metrics=['acc'])\n",
    "# model.summary()"
   ]
  },
  {
   "cell_type": "code",
   "execution_count": null,
   "metadata": {
    "colab": {
     "base_uri": "https://localhost:8080/"
    },
    "executionInfo": {
     "elapsed": 133965,
     "status": "ok",
     "timestamp": 1623874066438,
     "user": {
      "displayName": "Sourav Mazumdar",
      "photoUrl": "",
      "userId": "17301155181699207336"
     },
     "user_tz": -330
    },
    "id": "53_lElM2qK0j",
    "outputId": "81ee187a-c787-44df-a7d3-edbaccee4e36"
   },
   "outputs": [
    {
     "name": "stdout",
     "output_type": "stream",
     "text": [
      "Epoch 1/50\n",
      "7/7 [==============================] - 3s 358ms/step - loss: 0.2663 - acc: 0.9064 - val_loss: 0.3419 - val_acc: 0.8400\n",
      "\n",
      "Epoch 00001: val_acc did not improve from 0.86000\n",
      "Epoch 2/50\n",
      "7/7 [==============================] - 3s 351ms/step - loss: 0.2589 - acc: 0.9064 - val_loss: 0.3597 - val_acc: 0.8400\n",
      "\n",
      "Epoch 00002: val_acc did not improve from 0.86000\n",
      "Epoch 3/50\n",
      "7/7 [==============================] - 3s 350ms/step - loss: 0.2213 - acc: 0.9113 - val_loss: 0.3487 - val_acc: 0.8400\n",
      "\n",
      "Epoch 00003: val_acc did not improve from 0.86000\n",
      "Epoch 4/50\n",
      "7/7 [==============================] - 3s 351ms/step - loss: 0.2376 - acc: 0.9212 - val_loss: 0.3434 - val_acc: 0.8400\n",
      "\n",
      "Epoch 00004: val_acc did not improve from 0.86000\n",
      "Epoch 5/50\n",
      "7/7 [==============================] - 3s 353ms/step - loss: 0.2360 - acc: 0.9212 - val_loss: 0.3424 - val_acc: 0.8400\n",
      "\n",
      "Epoch 00005: val_acc did not improve from 0.86000\n",
      "Epoch 6/50\n",
      "7/7 [==============================] - 3s 354ms/step - loss: 0.2631 - acc: 0.9212 - val_loss: 0.3524 - val_acc: 0.8200\n",
      "\n",
      "Epoch 00006: val_acc did not improve from 0.86000\n",
      "Epoch 7/50\n",
      "7/7 [==============================] - 3s 344ms/step - loss: 0.2235 - acc: 0.9261 - val_loss: 0.3419 - val_acc: 0.8200\n",
      "\n",
      "Epoch 00007: val_acc did not improve from 0.86000\n",
      "Epoch 8/50\n",
      "7/7 [==============================] - 3s 352ms/step - loss: 0.2721 - acc: 0.9015 - val_loss: 0.3584 - val_acc: 0.8400\n",
      "\n",
      "Epoch 00008: val_acc did not improve from 0.86000\n",
      "Epoch 9/50\n",
      "7/7 [==============================] - 3s 353ms/step - loss: 0.2594 - acc: 0.8719 - val_loss: 0.3377 - val_acc: 0.8400\n",
      "\n",
      "Epoch 00009: val_acc did not improve from 0.86000\n",
      "Epoch 10/50\n",
      "7/7 [==============================] - 3s 353ms/step - loss: 0.2169 - acc: 0.9409 - val_loss: 0.3417 - val_acc: 0.8200\n",
      "\n",
      "Epoch 00010: val_acc did not improve from 0.86000\n",
      "Epoch 11/50\n",
      "7/7 [==============================] - 3s 354ms/step - loss: 0.2721 - acc: 0.9064 - val_loss: 0.3364 - val_acc: 0.8200\n",
      "\n",
      "Epoch 00011: val_acc did not improve from 0.86000\n",
      "Epoch 12/50\n",
      "7/7 [==============================] - 3s 348ms/step - loss: 0.2823 - acc: 0.8916 - val_loss: 0.3459 - val_acc: 0.8200\n",
      "\n",
      "Epoch 00012: val_acc did not improve from 0.86000\n",
      "Epoch 13/50\n",
      "7/7 [==============================] - 3s 349ms/step - loss: 0.2533 - acc: 0.9064 - val_loss: 0.3548 - val_acc: 0.8400\n",
      "\n",
      "Epoch 00013: val_acc did not improve from 0.86000\n",
      "Epoch 14/50\n",
      "7/7 [==============================] - 3s 399ms/step - loss: 0.2432 - acc: 0.9113 - val_loss: 0.3413 - val_acc: 0.8200\n",
      "\n",
      "Epoch 00014: val_acc did not improve from 0.86000\n",
      "Epoch 15/50\n",
      "7/7 [==============================] - 3s 352ms/step - loss: 0.2532 - acc: 0.9163 - val_loss: 0.3348 - val_acc: 0.8200\n",
      "\n",
      "Epoch 00015: val_acc did not improve from 0.86000\n",
      "Epoch 16/50\n",
      "7/7 [==============================] - 3s 348ms/step - loss: 0.2364 - acc: 0.9163 - val_loss: 0.3402 - val_acc: 0.8200\n",
      "\n",
      "Epoch 00016: val_acc did not improve from 0.86000\n",
      "Epoch 17/50\n",
      "7/7 [==============================] - 3s 352ms/step - loss: 0.2235 - acc: 0.9113 - val_loss: 0.3338 - val_acc: 0.8400\n",
      "\n",
      "Epoch 00017: val_acc did not improve from 0.86000\n",
      "Epoch 18/50\n",
      "7/7 [==============================] - 3s 353ms/step - loss: 0.2738 - acc: 0.9015 - val_loss: 0.3329 - val_acc: 0.8600\n",
      "\n",
      "Epoch 00018: val_acc did not improve from 0.86000\n",
      "Epoch 19/50\n",
      "7/7 [==============================] - 2s 345ms/step - loss: 0.2498 - acc: 0.8867 - val_loss: 0.3311 - val_acc: 0.8000\n",
      "\n",
      "Epoch 00019: val_acc did not improve from 0.86000\n",
      "Epoch 20/50\n",
      "7/7 [==============================] - 3s 350ms/step - loss: 0.2278 - acc: 0.9163 - val_loss: 0.3556 - val_acc: 0.8400\n",
      "\n",
      "Epoch 00020: val_acc did not improve from 0.86000\n",
      "Epoch 21/50\n",
      "7/7 [==============================] - 3s 355ms/step - loss: 0.2706 - acc: 0.8768 - val_loss: 0.3507 - val_acc: 0.8400\n",
      "\n",
      "Epoch 00021: val_acc did not improve from 0.86000\n",
      "Epoch 22/50\n",
      "7/7 [==============================] - 3s 353ms/step - loss: 0.2374 - acc: 0.9113 - val_loss: 0.3464 - val_acc: 0.8200\n",
      "\n",
      "Epoch 00022: val_acc did not improve from 0.86000\n",
      "Epoch 23/50\n",
      "7/7 [==============================] - 3s 353ms/step - loss: 0.2770 - acc: 0.9064 - val_loss: 0.3321 - val_acc: 0.8200\n",
      "\n",
      "Epoch 00023: val_acc did not improve from 0.86000\n",
      "Epoch 24/50\n",
      "7/7 [==============================] - 3s 352ms/step - loss: 0.2520 - acc: 0.9113 - val_loss: 0.3383 - val_acc: 0.8200\n",
      "\n",
      "Epoch 00024: val_acc did not improve from 0.86000\n",
      "Epoch 25/50\n",
      "7/7 [==============================] - 3s 350ms/step - loss: 0.2187 - acc: 0.9261 - val_loss: 0.3358 - val_acc: 0.8200\n",
      "\n",
      "Epoch 00025: val_acc did not improve from 0.86000\n",
      "Epoch 26/50\n",
      "7/7 [==============================] - 3s 398ms/step - loss: 0.2832 - acc: 0.8867 - val_loss: 0.3404 - val_acc: 0.8200\n",
      "\n",
      "Epoch 00026: val_acc did not improve from 0.86000\n",
      "Epoch 27/50\n",
      "7/7 [==============================] - 3s 356ms/step - loss: 0.1991 - acc: 0.9458 - val_loss: 0.3676 - val_acc: 0.8400\n",
      "\n",
      "Epoch 00027: val_acc did not improve from 0.86000\n",
      "Epoch 28/50\n",
      "7/7 [==============================] - 3s 400ms/step - loss: 0.2095 - acc: 0.9507 - val_loss: 0.3363 - val_acc: 0.8200\n",
      "\n",
      "Epoch 00028: val_acc did not improve from 0.86000\n",
      "Epoch 29/50\n",
      "7/7 [==============================] - 3s 350ms/step - loss: 0.2346 - acc: 0.9015 - val_loss: 0.3340 - val_acc: 0.8200\n",
      "\n",
      "Epoch 00029: val_acc did not improve from 0.86000\n",
      "Epoch 30/50\n",
      "7/7 [==============================] - 3s 360ms/step - loss: 0.2418 - acc: 0.9212 - val_loss: 0.3505 - val_acc: 0.8400\n",
      "\n",
      "Epoch 00030: val_acc did not improve from 0.86000\n",
      "Epoch 31/50\n",
      "7/7 [==============================] - 3s 349ms/step - loss: 0.2481 - acc: 0.9015 - val_loss: 0.3437 - val_acc: 0.8400\n",
      "\n",
      "Epoch 00031: val_acc did not improve from 0.86000\n",
      "Epoch 32/50\n",
      "7/7 [==============================] - 3s 354ms/step - loss: 0.2458 - acc: 0.9113 - val_loss: 0.3744 - val_acc: 0.8400\n",
      "\n",
      "Epoch 00032: val_acc did not improve from 0.86000\n",
      "Epoch 33/50\n",
      "7/7 [==============================] - 3s 348ms/step - loss: 0.2268 - acc: 0.9261 - val_loss: 0.3542 - val_acc: 0.8400\n",
      "\n",
      "Epoch 00033: val_acc did not improve from 0.86000\n",
      "Epoch 34/50\n",
      "7/7 [==============================] - 3s 356ms/step - loss: 0.2714 - acc: 0.8867 - val_loss: 0.3534 - val_acc: 0.8400\n",
      "\n",
      "Epoch 00034: val_acc did not improve from 0.86000\n",
      "Epoch 35/50\n",
      "7/7 [==============================] - 3s 359ms/step - loss: 0.2647 - acc: 0.8916 - val_loss: 0.3359 - val_acc: 0.8200\n",
      "\n",
      "Epoch 00035: val_acc did not improve from 0.86000\n",
      "Epoch 36/50\n",
      "7/7 [==============================] - 3s 393ms/step - loss: 0.2617 - acc: 0.8916 - val_loss: 0.3528 - val_acc: 0.8400\n",
      "\n",
      "Epoch 00036: val_acc did not improve from 0.86000\n",
      "Epoch 37/50\n",
      "7/7 [==============================] - 3s 353ms/step - loss: 0.2174 - acc: 0.9360 - val_loss: 0.3481 - val_acc: 0.8400\n",
      "\n",
      "Epoch 00037: val_acc did not improve from 0.86000\n",
      "Epoch 38/50\n",
      "7/7 [==============================] - 3s 357ms/step - loss: 0.2201 - acc: 0.9261 - val_loss: 0.3555 - val_acc: 0.8600\n",
      "\n",
      "Epoch 00038: val_acc did not improve from 0.86000\n",
      "Epoch 39/50\n",
      "7/7 [==============================] - 3s 395ms/step - loss: 0.2435 - acc: 0.9064 - val_loss: 0.3219 - val_acc: 0.8200\n",
      "\n",
      "Epoch 00039: val_acc did not improve from 0.86000\n",
      "Epoch 40/50\n",
      "7/7 [==============================] - 3s 353ms/step - loss: 0.2937 - acc: 0.8818 - val_loss: 0.3430 - val_acc: 0.8400\n",
      "\n",
      "Epoch 00040: val_acc did not improve from 0.86000\n",
      "Epoch 41/50\n",
      "7/7 [==============================] - 3s 400ms/step - loss: 0.2609 - acc: 0.9212 - val_loss: 0.3207 - val_acc: 0.8200\n",
      "\n",
      "Epoch 00041: val_acc did not improve from 0.86000\n",
      "Epoch 42/50\n",
      "7/7 [==============================] - 3s 346ms/step - loss: 0.2281 - acc: 0.9015 - val_loss: 0.3398 - val_acc: 0.8400\n",
      "\n",
      "Epoch 00042: val_acc did not improve from 0.86000\n",
      "Epoch 43/50\n",
      "7/7 [==============================] - 3s 351ms/step - loss: 0.2339 - acc: 0.9163 - val_loss: 0.3165 - val_acc: 0.8400\n",
      "\n",
      "Epoch 00043: val_acc did not improve from 0.86000\n",
      "Epoch 44/50\n",
      "7/7 [==============================] - 3s 350ms/step - loss: 0.2529 - acc: 0.9015 - val_loss: 0.3229 - val_acc: 0.8200\n",
      "\n",
      "Epoch 00044: val_acc did not improve from 0.86000\n",
      "Epoch 45/50\n",
      "7/7 [==============================] - 3s 344ms/step - loss: 0.2274 - acc: 0.9261 - val_loss: 0.3195 - val_acc: 0.8200\n",
      "\n",
      "Epoch 00045: val_acc did not improve from 0.86000\n",
      "Epoch 46/50\n",
      "7/7 [==============================] - 3s 351ms/step - loss: 0.3003 - acc: 0.8818 - val_loss: 0.3217 - val_acc: 0.8000\n",
      "\n",
      "Epoch 00046: val_acc did not improve from 0.86000\n",
      "Epoch 47/50\n",
      "7/7 [==============================] - 3s 354ms/step - loss: 0.2602 - acc: 0.9163 - val_loss: 0.3292 - val_acc: 0.8400\n",
      "\n",
      "Epoch 00047: val_acc did not improve from 0.86000\n",
      "Epoch 48/50\n",
      "7/7 [==============================] - 3s 352ms/step - loss: 0.2274 - acc: 0.9409 - val_loss: 0.3464 - val_acc: 0.8400\n",
      "\n",
      "Epoch 00048: val_acc did not improve from 0.86000\n",
      "Epoch 49/50\n",
      "7/7 [==============================] - 3s 356ms/step - loss: 0.2422 - acc: 0.9113 - val_loss: 0.3410 - val_acc: 0.8400\n",
      "\n",
      "Epoch 00049: val_acc did not improve from 0.86000\n",
      "Epoch 50/50\n",
      "7/7 [==============================] - 3s 357ms/step - loss: 0.2147 - acc: 0.9507 - val_loss: 0.3371 - val_acc: 0.8400\n",
      "\n",
      "Epoch 00050: val_acc did not improve from 0.86000\n"
     ]
    }
   ],
   "source": [
    "hist_wav = model.fit(\n",
    "    train_generator,\n",
    "    validation_data = validation_generator, \n",
    "    epochs = 50,\n",
    "    verbose = 1,\n",
    "    steps_per_epoch = len(train_generator),\n",
    "    callbacks=[reduce_lr,checkpoint])"
   ]
  },
  {
   "cell_type": "code",
   "execution_count": null,
   "metadata": {
    "id": "kLhzw6i6LpzK"
   },
   "outputs": [],
   "source": [
    "plot_curves(hist_wav)\n",
    "model.optimizer.get_config()"
   ]
  },
  {
   "cell_type": "code",
   "execution_count": 12,
   "metadata": {
    "colab": {
     "base_uri": "https://localhost:8080/"
    },
    "executionInfo": {
     "elapsed": 2401,
     "status": "ok",
     "timestamp": 1623946278269,
     "user": {
      "displayName": "Sourav Mazumdar",
      "photoUrl": "",
      "userId": "17301155181699207336"
     },
     "user_tz": -330
    },
    "id": "4tP2XjXK6s9Z",
    "outputId": "fd7c4d77-7f13-4433-8b01-cff0e234b574"
   },
   "outputs": [
    {
     "name": "stdout",
     "output_type": "stream",
     "text": [
      "[INFO] evalutating network on holdout set...\n",
      "              precision    recall  f1-score   support\n",
      "\n",
      "           0       0.95      0.95      0.95        19\n",
      "           1       0.97      0.97      0.97        31\n",
      "\n",
      "    accuracy                           0.96        50\n",
      "   macro avg       0.96      0.96      0.96        50\n",
      "weighted avg       0.96      0.96      0.96        50\n",
      "\n",
      "[[18  1]\n",
      " [ 1 30]]\n",
      "\n",
      " Precision: 0.967741935483871\n",
      "\n",
      " Recall: 0.967741935483871\n",
      "\n",
      "Error Rate: 0.040000000000000036\n"
     ]
    }
   ],
   "source": [
    "model.load_weights('/content/drive/MyDrive/major project/saved models/model ID 2-0.960000.h5')\n",
    "show_metrics(model)"
   ]
  },
  {
   "cell_type": "code",
   "execution_count": null,
   "metadata": {
    "colab": {
     "base_uri": "https://localhost:8080/",
     "height": 1000
    },
    "executionInfo": {
     "elapsed": 1965,
     "status": "ok",
     "timestamp": 1619422055133,
     "user": {
      "displayName": "Sourav Mazumdar",
      "photoUrl": "",
      "userId": "17301155181699207336"
     },
     "user_tz": -330
    },
    "id": "AHneyj6YO4Hf",
    "outputId": "34403c2d-7a32-4276-cb3f-7afa7eb0aee6"
   },
   "outputs": [
    {
     "data": {
      "image/png": "[encoded data removed]",
      "text/plain": [
       "<IPython.core.display.Image object>"
      ]
     },
     "execution_count": 24,
     "metadata": {
      "tags": []
     },
     "output_type": "execute_result"
    }
   ],
   "source": [
    "plot_model(model)"
   ]
  },
  {
   "cell_type": "code",
   "execution_count": null,
   "metadata": {
    "id": "sn8hLJbmGtPE"
   },
   "outputs": [],
   "source": []
  },
  {
   "cell_type": "code",
   "execution_count": null,
   "metadata": {
    "id": "Ta6qFACvCxxt"
   },
   "outputs": [],
   "source": []
  },
  {
   "cell_type": "code",
   "execution_count": null,
   "metadata": {
    "id": "TVKH5Yn9Cxu5"
   },
   "outputs": [],
   "source": []
  },
  {
   "cell_type": "code",
   "execution_count": null,
   "metadata": {
    "id": "LCRaTSnwzyzr"
   },
   "outputs": [],
   "source": []
  }
 ],
 "metadata": {
  "accelerator": "GPU",
  "colab": {
   "authorship_tag": "ABX9TyPEgtBce3X9S90phZSmdrRj",
   "collapsed_sections": [],
   "mount_file_id": "19hpIiajySfm_w3I8Gr2OmanzYad1pG_T",
   "name": "brian tumour.ipynb",
   "provenance": []
  },
  "kernelspec": {
   "display_name": "Python 3",
   "language": "python",
   "name": "python3"
  },
  "language_info": {
   "codemirror_mode": {
    "name": "ipython",
    "version": 3
   },
   "file_extension": ".py",
   "mimetype": "text/x-python",
   "name": "python",
   "nbconvert_exporter": "python",
   "pygments_lexer": "ipython3",
   "version": "3.7.6"
  }
 },
 "nbformat": 4,
 "nbformat_minor": 1
}
